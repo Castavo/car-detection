{
 "cells": [
  {
   "cell_type": "markdown",
   "metadata": {},
   "source": [
    "# We try to see how our SVM fares"
   ]
  },
  {
   "cell_type": "markdown",
   "metadata": {},
   "source": [
    "## Loading everything"
   ]
  },
  {
   "cell_type": "code",
   "execution_count": null,
   "metadata": {},
   "outputs": [],
   "source": [
    "%load_ext autoreload\n",
    "%autoreload"
   ]
  },
  {
   "cell_type": "code",
   "execution_count": null,
   "metadata": {},
   "outputs": [],
   "source": [
    "import pickle, os\n",
    "import numpy as np\n",
    "import matplotlib.pyplot as plt\n",
    "from cv2 import SIFT_create, imread, cvtColor, COLOR_BGR2GRAY, GaussianBlur\n",
    "from sklearn.metrics import confusion_matrix\n",
    "\n",
    "from scripts.utils import extract_frames_info, label_keypoints, annotations_from_string"
   ]
  },
  {
   "cell_type": "code",
   "execution_count": null,
   "metadata": {},
   "outputs": [],
   "source": [
    "features_path = \"data/features_similar.pkl\"\n",
    "test_features_path = \"data/test_features_similar.pkl\"\n",
    "pca_path = \"models/pca_similar.pkl\"\n",
    "svm_path = \"models/svm_similar.pkl\"\n",
    "\n",
    "with open(features_path, \"rb\") as feature_file:\n",
    "    features, labels = pickle.load(feature_file)\n",
    "    features = np.array(features)\n",
    "    labels = np.array(labels)\n",
    "\n",
    "with open(test_features_path, \"rb\") as test_feature_file:\n",
    "    test_features, keypoints = pickle.load(test_feature_file)\n",
    "\n",
    "mean, std = features.mean(0), np.std(features, 0)\n",
    "c_features = (features - mean) / std\n",
    "\n",
    "with open(pca_path, \"rb\") as pca_file:\n",
    "    pca = pickle.load(pca_file)\n",
    "with open(svm_path, \"rb\") as svm_file:\n",
    "    svm = pickle.load(svm_file)\n",
    "\n",
    "sift = SIFT_create()\n",
    "\n",
    "frames_info = extract_frames_info('data/train.csv', only_similar=True)"
   ]
  },
  {
   "cell_type": "markdown",
   "metadata": {},
   "source": [
    "## Looking at what the SVM can find on the test set"
   ]
  },
  {
   "cell_type": "code",
   "execution_count": null,
   "metadata": {},
   "outputs": [],
   "source": [
    "index = 75\n",
    "\n",
    "first_image = imread(f\"data/test/{index:03d}.jpg\")\n",
    "feature_vects = test_features[0]\n",
    "kps = keypoints[0]\n",
    "coords = np.array(kps)\n",
    "\n",
    "c_f = (feature_vects - mean) / std\n",
    "\n",
    "exp_labels = svm.predict(c_f)"
   ]
  },
  {
   "cell_type": "code",
   "execution_count": null,
   "metadata": {},
   "outputs": [],
   "source": [
    "filter = exp_labels.astype(bool)\n",
    "good_coords = coords[filter]\n",
    "heatmap, xedges, yedges = np.histogram2d(good_coords[:, 0], good_coords[:, 1], bins=(200, 120))\n",
    "\n",
    "heatmap = GaussianBlur(heatmap, [0, 0], 2)\n",
    "# heatmap = np.ma.masked_array(heatmap, heatmap < .05)\n",
    "\n",
    "plt.figure(figsize=(16, 12))\n",
    "\n",
    "plt.imshow(cvtColor(first_image, COLOR_BGR2GRAY), cmap=\"gray\")\n",
    "# plt.pcolormesh(xedges, yedges, heatmap.T, alpha=.7)\n",
    "plt.scatter(coords[:, 0], coords[:, 1])"
   ]
  },
  {
   "cell_type": "markdown",
   "metadata": {},
   "source": [
    "## Looking at what the SVM can find on the training set"
   ]
  },
  {
   "cell_type": "code",
   "execution_count": null,
   "metadata": {},
   "outputs": [],
   "source": [
    "index = 0\n",
    "first_image = imread(os.path.join(\"data\", frames_info[index][0]))\n",
    "\n",
    "kps, f = sift.detectAndCompute(first_image, None)\n",
    "\n",
    "coords = np.array([kp.pt for kp in kps])\n",
    "\n",
    "r_f = pca.transform(f)\n",
    "\n",
    "c_f = (r_f - mean) / std\n",
    "\n",
    "exp_labels = svm.predict(c_f)\n",
    "real_labels = label_keypoints(kps, frames_info[index][1])\n",
    "confusion_matrix(real_labels, exp_labels)"
   ]
  },
  {
   "cell_type": "code",
   "execution_count": null,
   "metadata": {},
   "outputs": [],
   "source": [
    "filter = exp_labels.astype(bool)\n",
    "good_coords = coords[filter]\n",
    "heatmap, xedges, yedges = np.histogram2d(good_coords[:, 0], good_coords[:, 1], bins=(200, 120))\n",
    "\n",
    "heatmap = GaussianBlur(heatmap, [0, 0], 2)\n",
    "heatmap = np.ma.masked_array(heatmap, heatmap < .05)\n",
    "\n",
    "plt.figure(figsize=(16, 12))\n",
    "\n",
    "plt.imshow(cvtColor(first_image, COLOR_BGR2GRAY), cmap=\"gray\")\n",
    "plt.pcolormesh(xedges, yedges, heatmap.T, alpha=.7)\n",
    "# plt.scatter(coords[:, 0], coords[:, 1])\n"
   ]
  }
 ],
 "metadata": {
  "interpreter": {
   "hash": "a479ea523a5b8b5c3b7aea2fe6c266d30f39dbf38fd9ceb0987d9569b9f00014"
  },
  "kernelspec": {
   "display_name": "Python 3.9.10 ('opencv': conda)",
   "language": "python",
   "name": "python3"
  },
  "language_info": {
   "codemirror_mode": {
    "name": "ipython",
    "version": 3
   },
   "file_extension": ".py",
   "mimetype": "text/x-python",
   "name": "python",
   "nbconvert_exporter": "python",
   "pygments_lexer": "ipython3",
   "version": "3.9.10"
  },
  "orig_nbformat": 4
 },
 "nbformat": 4,
 "nbformat_minor": 2
}
