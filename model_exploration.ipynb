{
 "cells": [
  {
   "cell_type": "markdown",
   "metadata": {},
   "source": [
    "# Essentially, testing out my pipeline"
   ]
  },
  {
   "cell_type": "code",
   "execution_count": null,
   "metadata": {},
   "outputs": [],
   "source": [
    "%load_ext autoreload\n",
    "%autoreload 2"
   ]
  },
  {
   "cell_type": "code",
   "execution_count": null,
   "metadata": {},
   "outputs": [],
   "source": [
    "import os, pickle\n",
    "import numpy as np\n",
    "import matplotlib.pyplot as plt\n",
    "from skimage.io import imread\n",
    "\n",
    "from scripts.utils import extract_frames_info\n",
    "from scripts.display_utils import show_image_with_bbs\n",
    "from scripts.hog.classifier import HOGClassifier\n"
   ]
  },
  {
   "cell_type": "code",
   "execution_count": null,
   "metadata": {},
   "outputs": [],
   "source": [
    "frames_info = extract_frames_info(\"data/train.csv\")"
   ]
  },
  {
   "cell_type": "code",
   "execution_count": null,
   "metadata": {},
   "outputs": [],
   "source": [
    "classifier = HOGClassifier()\n",
    "\n",
    "features, labels = classifier.features_labels(frames_info[:10], 1)"
   ]
  },
  {
   "cell_type": "code",
   "execution_count": null,
   "metadata": {},
   "outputs": [],
   "source": [
    "features[1].shape"
   ]
  },
  {
   "cell_type": "code",
   "execution_count": null,
   "metadata": {},
   "outputs": [],
   "source": [
    "with open(\"models/hog/non_linear_stricter_64_8.pkl\", \"rb\") as pickle_file:\n",
    "    classifier = pickle.load(pickle_file)"
   ]
  },
  {
   "cell_type": "code",
   "execution_count": null,
   "metadata": {},
   "outputs": [],
   "source": [
    "image_index = 100\n",
    "image = imread(frames_info[image_index][0])\n",
    "\n",
    "car_index = 5\n",
    "\n",
    "car_bb = frames_info[image_index][1][car_index]\n",
    "car_image = image[car_bb[1]: car_bb[1]+car_bb[3], car_bb[0]: car_bb[0]+car_bb[2]]\n",
    "plt.imshow(car_image)\n",
    "print(classifier.predict(car_image))"
   ]
  },
  {
   "cell_type": "code",
   "execution_count": null,
   "metadata": {},
   "outputs": [],
   "source": [
    "image_index = 100\n",
    "image = imread(frames_info[image_index][0])\n",
    "\n",
    "car_bb = [500, 250, 150, 100]\n",
    "car_image = image[car_bb[1]: car_bb[1]+car_bb[3], car_bb[0]: car_bb[0]+car_bb[2]]\n",
    "print(classifier.predict(car_image))\n",
    "show_image_with_bbs(frames_info[image_index][0], [car_bb])"
   ]
  },
  {
   "cell_type": "markdown",
   "metadata": {},
   "source": [
    "## Testing detection"
   ]
  },
  {
   "cell_type": "code",
   "execution_count": null,
   "metadata": {},
   "outputs": [],
   "source": [
    "from scripts.hog.detection import detect, nms\n",
    "import pickle\n",
    "from skimage.io import imread\n",
    "from scripts.display_utils import show_image_with_bbs"
   ]
  },
  {
   "cell_type": "code",
   "execution_count": null,
   "metadata": {},
   "outputs": [],
   "source": [
    "test_dir = \"data/test\"\n",
    "test_images = [os.path.join(test_dir, filename) for filename in os.listdir(test_dir)]"
   ]
  },
  {
   "cell_type": "code",
   "execution_count": null,
   "metadata": {},
   "outputs": [],
   "source": [
    "image_index = 40\n",
    "image = imread(test_images[image_index])"
   ]
  },
  {
   "cell_type": "code",
   "execution_count": null,
   "metadata": {},
   "outputs": [],
   "source": [
    "detections, decisions = detect(\n",
    "    classifier,\n",
    "    image, \n",
    "    10, \n",
    "    [\n",
    "        64,\n",
    "        100, \n",
    "        200, \n",
    "        300,\n",
    "        # 500\n",
    "    ], \n",
    "    [\n",
    "        # 1.0, \n",
    "        .8, \n",
    "        .5\n",
    "    ])\n",
    "print(len(detections))"
   ]
  },
  {
   "cell_type": "code",
   "execution_count": null,
   "metadata": {},
   "outputs": [],
   "source": [
    "best_idx = np.array(decisions) > .2\n",
    "best_detections = np.array(detections)[best_idx]\n",
    "best_decisions = np.array(decisions)[best_idx]"
   ]
  },
  {
   "cell_type": "code",
   "execution_count": null,
   "metadata": {},
   "outputs": [],
   "source": [
    "show_image_with_bbs(test_images[image_index], best_detections, confidences=[f\"{score:.3f}\" for score in best_decisions])"
   ]
  },
  {
   "cell_type": "code",
   "execution_count": null,
   "metadata": {},
   "outputs": [],
   "source": [
    "print(decisions)"
   ]
  },
  {
   "cell_type": "markdown",
   "metadata": {},
   "source": [
    "## Hard example mining"
   ]
  },
  {
   "cell_type": "code",
   "execution_count": null,
   "metadata": {},
   "outputs": [],
   "source": [
    "from scripts.hog.bounding_box_utils import find_free_window\n",
    "from random import choice\n",
    "from tqdm.auto import tqdm"
   ]
  },
  {
   "cell_type": "code",
   "execution_count": null,
   "metadata": {},
   "outputs": [],
   "source": [
    "WINDOW_WIDTHS, WINDOW_RATIOS = [64, 128, 256, 400], [.8, 0.5, 1.0]\n",
    "\n",
    "WINDOW_SHAPES = [(width, int(width*ratio)) for width in WINDOW_WIDTHS for ratio in WINDOW_RATIOS]\n",
    "def mine_hard_example(image_path, bboxes, n_examples, classifier):\n",
    "    pbar = tqdm()\n",
    "    examples = []\n",
    "    image = imread(image_path)\n",
    "    while len(examples) < n_examples:\n",
    "        window = find_free_window((image.shape[1], image.shape[0]), bboxes, choice(WINDOW_SHAPES))\n",
    "        if window is None:\n",
    "            continue\n",
    "        sub_image = image[window[1]: window[1]+window[3], window[0]: window[0]+window[2]]\n",
    "        label, feature_vect = classifier.predict(sub_image, True)\n",
    "        if label:\n",
    "            examples.append(feature_vect)\n",
    "            plt.imshow(sub_image)\n",
    "            plt.show()\n",
    "            pbar.update()\n",
    "    pbar.close()\n",
    "    return examples"
   ]
  },
  {
   "cell_type": "code",
   "execution_count": null,
   "metadata": {},
   "outputs": [],
   "source": [
    "car_index = 0\n",
    "image_path, bboxes = frames_info[car_index]\n",
    "\n",
    "hard_examples = mine_hard_example(image_path, bboxes, 3, classifier)\n",
    "print(len(hard_examples))"
   ]
  },
  {
   "cell_type": "markdown",
   "metadata": {},
   "source": [
    "## Visualizing final results"
   ]
  },
  {
   "cell_type": "code",
   "execution_count": null,
   "metadata": {},
   "outputs": [],
   "source": [
    "from ipywidgets import interact, widgets\n",
    "from scripts.display_utils import show_image_with_bbs\n",
    "import pickle\n",
    "import numpy as np\n",
    "from scripts.hog.detection import detect, nms"
   ]
  },
  {
   "cell_type": "code",
   "execution_count": null,
   "metadata": {},
   "outputs": [],
   "source": [
    "with open(\"results/hog/linear_results.pkl\", \"rb\") as pickle_file:\n",
    "    results = pickle.load(pickle_file)\n",
    "\n",
    "\n",
    "all_filenames, all_detections, all_confidences = [None]*len(results), [None]*len(results), [None]*len(results)\n",
    "for fname, _, detections, confidences in results:\n",
    "    idx = int(fname.split(\".\")[0]) - 1\n",
    "    all_filenames[idx] = fname\n",
    "    all_detections[idx] = detections\n",
    "    all_confidences[idx] = confidences"
   ]
  },
  {
   "cell_type": "code",
   "execution_count": null,
   "metadata": {},
   "outputs": [],
   "source": [
    "def f_display(index):\n",
    "    detections = all_detections[index]\n",
    "    confidences = all_confidences[index]\n",
    "    best_idx = np.array(confidences) > .2\n",
    "    best_detections = np.array(detections)[best_idx]\n",
    "    # best_confidences = [f\"{score:.3f}\" for score in np.array(confidences)[best_idx]]\n",
    "    best_detections = nms(best_detections, \"confidence\", .5, \"min\", np.array(confidences)[best_idx])\n",
    "    show_image_with_bbs(os.path.join(\"data/test\", all_filenames[index]), best_detections)\n",
    "\n",
    "interact(f_display, index=widgets.IntSlider(min=0, max=len(all_filenames)-1, step=1, value=83))"
   ]
  },
  {
   "cell_type": "code",
   "execution_count": null,
   "metadata": {},
   "outputs": [],
   "source": [
    "from scripts.utils import run_length_encoding, bounding_boxes_to_mask\n",
    "import csv\n",
    "\n",
    "rows = []\n",
    "for file_name, _, detections, confidences in results:\n",
    "    correct = [i for i in range(len(detections)) if detections[i][1] > 100 and detections[i][1]+detections[i][3] < 500]\n",
    "    detections = np.array(detections)[correct]\n",
    "    confidences = np.array(confidences)[correct]\n",
    "    best_idx = np.array(confidences) > .2\n",
    "    best_detections = np.array(detections)[best_idx]\n",
    "    best_detections = nms(best_detections, \"confidence\", .5, \"min\", np.array(confidences)[best_idx])\n",
    "    if len(best_detections) == 0:\n",
    "        rle = \"\"\n",
    "    else:\n",
    "        rle = run_length_encoding(bounding_boxes_to_mask(best_detections, 720, 1280))\n",
    "    rows.append(['test/' + file_name, rle])\n",
    "\n",
    "with open(\"results/hog/not_the_worst.csv\", \"w\") as dest_file:\n",
    "    writer = csv.writer(dest_file)\n",
    "    writer.writerows(rows)"
   ]
  }
 ],
 "metadata": {
  "interpreter": {
   "hash": "b21028fa5cd3e2446bca7c5413f510df48407828bdc232bfb038ec27a07f51cb"
  },
  "kernelspec": {
   "display_name": "Python 3.8.10 64-bit ('3.8.10')",
   "language": "python",
   "name": "python3"
  },
  "language_info": {
   "codemirror_mode": {
    "name": "ipython",
    "version": 3
   },
   "file_extension": ".py",
   "mimetype": "text/x-python",
   "name": "python",
   "nbconvert_exporter": "python",
   "pygments_lexer": "ipython3",
   "version": "3.9.10"
  },
  "orig_nbformat": 4
 },
 "nbformat": 4,
 "nbformat_minor": 2
}
