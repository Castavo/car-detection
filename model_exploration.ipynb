{
 "cells": [
  {
   "cell_type": "markdown",
   "metadata": {},
   "source": [
    "# Essentially, testing out my pipeline"
   ]
  },
  {
   "cell_type": "code",
   "execution_count": 2,
   "metadata": {},
   "outputs": [],
   "source": [
    "%load_ext autoreload\n",
    "%autoreload 2"
   ]
  },
  {
   "cell_type": "code",
   "execution_count": 3,
   "metadata": {},
   "outputs": [],
   "source": [
    "import os\n",
    "import numpy as np\n",
    "import matplotlib.pyplot as plt\n",
    "from cv2 import SIFT_create, imread, cvtColor, COLOR_BGR2GRAY, GaussianBlur\n",
    "from skimage.io import imread\n",
    "\n",
    "from scripts.utils import extract_frames_info\n",
    "from scripts.display_utils import show_image_with_bbs\n",
    "from scripts.hog.classifier import HOGClassifier\n"
   ]
  },
  {
   "cell_type": "code",
   "execution_count": 10,
   "metadata": {},
   "outputs": [
    {
     "name": "stderr",
     "output_type": "stream",
     "text": [
      "  2%|▏         | 41/2226 [54:30<48:24:39, 79.76s/it]\n",
      " 20%|██        | 2/10 [04:25<17:43, 132.99s/it]\n"
     ]
    }
   ],
   "source": [
    "frames_info = extract_frames_info(\"data/train.csv\")"
   ]
  },
  {
   "cell_type": "code",
   "execution_count": 16,
   "metadata": {},
   "outputs": [
    {
     "name": "stderr",
     "output_type": "stream",
     "text": [
      "100%|██████████| 10/10 [00:09<00:00,  1.06it/s]\n",
      "100%|██████████| 10/10 [00:00<00:00, 10010.27it/s]\n"
     ]
    }
   ],
   "source": [
    "classifier = HOGClassifier()\n",
    "\n",
    "features, labels = classifier.features_labels(frames_info[:10], 1)"
   ]
  },
  {
   "cell_type": "code",
   "execution_count": 19,
   "metadata": {},
   "outputs": [
    {
     "data": {
      "text/plain": [
       "(34560,)"
      ]
     },
     "execution_count": 19,
     "metadata": {},
     "output_type": "execute_result"
    }
   ],
   "source": [
    "features[1].shape"
   ]
  },
  {
   "cell_type": "code",
   "execution_count": null,
   "metadata": {},
   "outputs": [],
   "source": [
    "bounding_boxes = [[0, 0, 5, 5], [5, 5, 5, 5]]"
   ]
  },
  {
   "cell_type": "markdown",
   "metadata": {},
   "source": [
    "For simplicity, let's say they are the same for all test images (yours won't be). Then, we can create a Kaggle submission file like this:"
   ]
  },
  {
   "cell_type": "code",
   "execution_count": null,
   "metadata": {},
   "outputs": [],
   "source": [
    "test_files = sorted(os.listdir('./test/'))\n",
    "\n",
    "rows = []\n",
    "\n",
    "for file_name in test_files:\n",
    "\n",
    "    rle = run_length_encoding(bounding_boxes_to_mask(bounding_boxes, H, W))\n",
    "    rows.append(['test/' + file_name, rle])\n",
    "\n",
    "df_prediction = pd.DataFrame(columns=['Id', 'Predicted'], data=rows).set_index('Id')\n",
    "df_prediction.to_csv('sample_submission.csv')"
   ]
  }
 ],
 "metadata": {
  "interpreter": {
   "hash": "b21028fa5cd3e2446bca7c5413f510df48407828bdc232bfb038ec27a07f51cb"
  },
  "kernelspec": {
   "display_name": "Python 3.8.10 64-bit ('3.8.10')",
   "language": "python",
   "name": "python3"
  },
  "language_info": {
   "codemirror_mode": {
    "name": "ipython",
    "version": 3
   },
   "file_extension": ".py",
   "mimetype": "text/x-python",
   "name": "python",
   "nbconvert_exporter": "python",
   "pygments_lexer": "ipython3",
   "version": "3.8.10"
  },
  "orig_nbformat": 4
 },
 "nbformat": 4,
 "nbformat_minor": 2
}
